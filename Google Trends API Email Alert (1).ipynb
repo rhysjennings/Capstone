{
 "cells": [
  {
   "cell_type": "markdown",
   "metadata": {},
   "source": [
    "# Importing the Google Trends API and Pandas"
   ]
  },
  {
   "cell_type": "code",
   "execution_count": 1,
   "metadata": {},
   "outputs": [],
   "source": [
    "from pytrends.request import TrendReq\n",
    "import pandas as pd"
   ]
  },
  {
   "cell_type": "markdown",
   "metadata": {},
   "source": [
    "# Reading an Csv and Selecting a Distinct List of Artists"
   ]
  },
  {
   "cell_type": "code",
   "execution_count": null,
   "metadata": {},
   "outputs": [],
   "source": [
    "dataframe = pd.read_csv('Daily Data.csv')\n",
    "dataframe.head()\n",
    "artists = dataframe.primary_act_Name.unique()\n"
   ]
  },
  {
   "cell_type": "code",
   "execution_count": 2,
   "metadata": {},
   "outputs": [],
   "source": [
    "artists = ['Dababy','David Foster','Taylor Swift',\"Lil Uzi Vert\",'Playboi Carti']"
   ]
  },
  {
   "cell_type": "markdown",
   "metadata": {},
   "source": [
    "# Passing each Artist into the Google Trend Api"
   ]
  },
  {
   "cell_type": "code",
   "execution_count": 3,
   "metadata": {},
   "outputs": [
    {
     "data": {
      "text/plain": [
       "<Response [200]>"
      ]
     },
     "execution_count": 3,
     "metadata": {},
     "output_type": "execute_result"
    }
   ],
   "source": [
    "import time\n",
    "import math\n",
    "trendingartists = pd.DataFrame()\n",
    "trendpct=[]\n",
    "for art in artists:\n",
    "    #Intializing pytrends\n",
    "    pytrends = TrendReq(hl='en-US', tz=360, timeout=(10,25), retries=5, backoff_factor=0.35)\n",
    "    kw_list = [art]\n",
    "    z=pytrends.build_payload(kw_list, cat=0, timeframe=\"today 3-m\", geo='', gprop='')\n",
    "    df = pytrends.interest_over_time()\n",
    "    \n",
    "    \n",
    "    #df=df.rename({art: 'Trend Percentage'},axis='columns')\n",
    "    series=df[art]\n",
    "    mean = series.mean()\n",
    "    df = series.reset_index()## limits columns to just artist.\n",
    "    df[\"Trend Percentage\"]=df[art]\n",
    "   # del df[art]\n",
    "    \n",
    "    last_ten_days = df.iloc[-10:] ##limits to the last ten days\n",
    "    \n",
    "   \n",
    "\n",
    "    ten_days_vs_3month_avg=last_ten_days[last_ten_days[art]>mean *2] ##Checking if anyone in the last ten days went above 3 month average\n",
    "    nadrop=ten_days_vs_3month_avg.dropna() ## Dropping NAN Values\n",
    "    nadrop['Artist'] = art\n",
    "    \n",
    "    #nadrop =nadrop.reset_index() ## Making Date a column so I can use it later in for loop\n",
    "    #print(nadrop)\n",
    "     \n",
    "    \n",
    "            \n",
    "\n",
    "    trendpct.append(nadrop) ## Adding all of them to list\n",
    "for df in trendpct: \n",
    "    if df.date.count() >=1: ## Sorting through new list and only adding ones that Return data hence have trended\n",
    "        #trendingartists.append(df)\n",
    "        trendingartists = pd.concat([trendingartists,df], sort =False)\n",
    "        finaltrendingartists=trendingartists[['Artist','date','Trend Percentage']]\n",
    "        finaltrendingartists=finaltrendingartists.rename({'date':'Date'},axis='columns')\n",
    "        finaltrendingartists=finaltrendingartists.set_index('Artist')\n",
    "        del finaltrendingartists.index.name\n",
    "        finaltrendingartistshtml = finaltrendingartists.to_html()\n",
    "        \n",
    "\n",
    "\n",
    "\n",
    "import requests\n",
    "def send_simple_message():\n",
    "\treturn requests.post(\n",
    "        'https://api.mailgun.net/v3/sandbox3106a32496f34ac4a3a6ebf51a5de903.mailgun.org/messages',\n",
    "\t\tauth=(\"api\", \"dffb6cd15f7e041544f1d63271431707-46ac6b00-c68f626b\"),\n",
    "\t\tdata={\"from\": \"Google Trend Checker <mailgun@andbox3106a32496f34ac4a3a6ebf51a5de903.mailgun.org>\",\n",
    "\t\t\t\"to\": [\"rhysnjennings@gmail.com\"], ## Feel free to change email\n",
    "\t\t\t\"subject\": \"The Latest trending Artists; Spikes above 2x their average trend\",\n",
    "             \"html\":\"These artists are trending for the past 10 days. Keep an eye on their ticket prices \" + finaltrendingartistshtml})\n",
    "send_simple_message()"
   ]
  },
  {
   "cell_type": "code",
   "execution_count": null,
   "metadata": {},
   "outputs": [],
   "source": []
  }
 ],
 "metadata": {
  "kernelspec": {
   "display_name": "Python 3",
   "language": "python",
   "name": "python3"
  },
  "language_info": {
   "codemirror_mode": {
    "name": "ipython",
    "version": 3
   },
   "file_extension": ".py",
   "mimetype": "text/x-python",
   "name": "python",
   "nbconvert_exporter": "python",
   "pygments_lexer": "ipython3",
   "version": "3.7.4"
  }
 },
 "nbformat": 4,
 "nbformat_minor": 2
}
